{
 "cells": [
  {
   "cell_type": "markdown",
   "id": "b7910cba",
   "metadata": {},
   "source": [
    "### Import Libraries"
   ]
  },
  {
   "cell_type": "code",
   "execution_count": 359,
   "id": "a6dbbccf",
   "metadata": {},
   "outputs": [],
   "source": [
    "import pandas as pd\n",
    "import numpy as np\n",
    "import matplotlib.pyplot as plt\n",
    "from scipy import stats\n",
    "import seaborn as sns"
   ]
  },
  {
   "cell_type": "markdown",
   "id": "df7fe94e",
   "metadata": {},
   "source": [
    "### Reading Data"
   ]
  },
  {
   "cell_type": "code",
   "execution_count": 360,
   "id": "4972c1ba",
   "metadata": {},
   "outputs": [],
   "source": [
    "# Read CSV files and parse date columns\n",
    "users = pd.read_csv(\"../datasets/megaline_users.csv\", parse_dates=[\"reg_date\", \"churn_date\"])\n",
    "calls = pd.read_csv(\"../datasets/megaline_calls.csv\", parse_dates=[\"call_date\"])\n",
    "messages = pd.read_csv(\"../datasets/megaline_messages.csv\", parse_dates=[\"message_date\"])\n",
    "internet = pd.read_csv(\"../datasets/megaline_internet.csv\", parse_dates=[\"session_date\"])\n",
    "plans = pd.read_csv(\"../datasets/megaline_plans.csv\")"
   ]
  },
  {
   "cell_type": "code",
   "execution_count": 361,
   "id": "983d71ee",
   "metadata": {},
   "outputs": [],
   "source": [
    "# Keep only data from 2018\n",
    "calls = calls[calls[\"call_date\"].dt.year == 2018]\n",
    "messages = messages[messages[\"message_date\"].dt.year == 2018]\n",
    "internet = internet[internet[\"session_date\"].dt.year == 2018]"
   ]
  },
  {
   "cell_type": "markdown",
   "id": "aefd4109",
   "metadata": {},
   "source": [
    "### Data preprocessing\n"
   ]
  },
  {
   "cell_type": "code",
   "execution_count": 362,
   "id": "bd4ad2e8",
   "metadata": {},
   "outputs": [],
   "source": [
    "#Normalize plans schema with flexible header mapping\n",
    "\n",
    "def normalize_cols(df: pd.DataFrame) -> pd.DataFrame:\n",
    "    out = df.copy()\n",
    "    out.columns = (\n",
    "        out.columns\n",
    "        .str.strip()\n",
    "        .str.lower()\n",
    "        .str.replace(\" \", \"_\")\n",
    "    )\n",
    "    return out\n",
    "\n",
    "plans = normalize_cols(plans)\n",
    "\n",
    "# Canonical names we want -> a list of possible aliases that may appear in the CSV\n",
    "ALIASES = {\n",
    "    \"plan_name\": [\n",
    "        \"plan_name\", \"plan\"\n",
    "    ],\n",
    "    \"usd_monthly_fee\": [\n",
    "        \"usd_monthly_fee\", \"usd_monthly_pay\", \"monthly_fee_usd\", \"monthly_usd_fee\", \"monthly_fee\", \"usd_monthlyfee\"\n",
    "    ],\n",
    "    \"minutes_included\": [\n",
    "        \"minutes_included\", \"included_minutes\", \"mins_included\"\n",
    "    ],\n",
    "    \"messages_included\": [\n",
    "        \"messages_included\", \"sms_included\", \"included_sms\"\n",
    "    ],\n",
    "    \"mb_per_month_included\": [\n",
    "        \"mb_per_month_included\", \"mb_included\", \"included_mb\", \"mb_per_month_included_mb\"\n",
    "    ],\n",
    "    \"usd_per_minute\": [\n",
    "        \"usd_per_minute\", \"usd_perminute\", \"usdperminute\", \"price_per_minute_usd\"\n",
    "    ],\n",
    "    \"usd_per_message\": [\n",
    "        \"usd_per_message\", \"usd_permessage\", \"usdpermessage\", \"price_per_message_usd\"\n",
    "    ],\n",
    "    \"usd_per_gb\": [\n",
    "        \"usd_per_gb\", \"usd_pergb\", \"price_per_gb_usd\"\n",
    "    ],\n",
    "}\n",
    "\n",
    "def pick_col(df: pd.DataFrame, aliases: list[str]) -> str | None:\n",
    "    \"\"\"Return the first existing column that matches the aliases list.\"\"\"\n",
    "    for a in aliases:\n",
    "        if a in df.columns:\n",
    "            return a\n",
    "    return None\n",
    "\n",
    "# Build a mapping from actual column names -> canonical names\n",
    "actual_to_canonical = {}\n",
    "missing_keys = []\n",
    "for canonical, options in ALIASES.items():\n",
    "    actual = pick_col(plans, options)\n",
    "    if actual is None:\n",
    "        missing_keys.append(canonical)\n",
    "    else:\n",
    "        actual_to_canonical[actual] = canonical\n",
    "\n",
    "if missing_keys:\n",
    "    raise ValueError(\n",
    "        f\"Could not find these required columns in plans: {missing_keys}\\n\"\n",
    "        f\"Available columns: {plans.columns.tolist()}\"\n",
    "    )\n",
    "\n",
    "# Rename to canonical names\n",
    "plans = plans.rename(columns=actual_to_canonical)\n",
    "\n",
    "# Ensure numeric dtypes on the economics fields\n",
    "for col in [\n",
    "    \"usd_monthly_fee\", \"minutes_included\", \"messages_included\",\n",
    "    \"mb_per_month_included\", \"usd_per_minute\", \"usd_per_message\", \"usd_per_gb\"\n",
    "]:\n",
    "    plans[col] = pd.to_numeric(plans[col], errors=\"coerce\")\n",
    "\n",
    "# Standardize plan_name values for clean joins\n",
    "plans[\"plan_name\"] = plans[\"plan_name\"].astype(str).str.strip().str.lower()"
   ]
  },
  {
   "cell_type": "code",
   "execution_count": 363,
   "id": "225d55cc",
   "metadata": {},
   "outputs": [],
   "source": [
    "# Build a base user-month table\n",
    "\n",
    "# Combine all unique user-month pairs\n",
    "user_month = pd.concat([\n",
    "    agg_calls[[\"user_id\", \"month\"]],\n",
    "    agg_sms[[\"user_id\", \"month\"]],\n",
    "    agg_net[[\"user_id\", \"month\"]]\n",
    "]).drop_duplicates()\n",
    "\n",
    "# Merge usage metrics and fill missing values with zero\n",
    "user_month = (\n",
    "    user_month.merge(agg_calls, on=[\"user_id\", \"month\"], how=\"left\")\n",
    "              .merge(agg_sms, on=[\"user_id\", \"month\"], how=\"left\")\n",
    "              .merge(agg_net, on=[\"user_id\", \"month\"], how=\"left\")\n",
    ")\n",
    "\n",
    "user_month[[\"minutes_month\", \"sms_month\", \"mb_month\"]] = (\n",
    "    user_month[[\"minutes_month\", \"sms_month\", \"mb_month\"]].fillna(0)\n",
    ")\n",
    "\n",
    "# Add plan and city information\n",
    "users_plans = users[[\"user_id\", \"city\", \"plan\"]].merge(plans, left_on=\"plan\", right_on=\"plan_name\", how=\"left\")\n",
    "um = user_month.merge(users_plans, on=\"user_id\", how=\"left\")"
   ]
  },
  {
   "cell_type": "code",
   "execution_count": 364,
   "id": "42c870ad",
   "metadata": {},
   "outputs": [],
   "source": [
    "# Create monthly aggregates for usage\n",
    "calls[\"month\"]    = calls[\"call_date\"].dt.to_period(\"M\")\n",
    "messages[\"month\"] = messages[\"message_date\"].dt.to_period(\"M\")\n",
    "internet[\"month\"] = internet[\"session_date\"].dt.to_period(\"M\")\n",
    "\n",
    "# Business rule: each call rounded up to a full minute\n",
    "calls[\"minutes_rounded\"] = np.ceil(calls[\"duration\"]).astype(int)\n",
    "\n",
    "agg_calls = (calls.groupby([\"user_id\", \"month\"], as_index=False)[\"minutes_rounded\"]\n",
    "                  .sum()\n",
    "                  .rename(columns={\"minutes_rounded\": \"minutes_month\"}))\n",
    "\n",
    "agg_sms   = (messages.groupby([\"user_id\", \"month\"], as_index=False)[\"id\"]\n",
    "                    .count()\n",
    "                    .rename(columns={\"id\": \"sms_month\"}))\n",
    "\n",
    "agg_net   = (internet.groupby([\"user_id\", \"month\"], as_index=False)[\"mb_used\"]\n",
    "                      .sum()\n",
    "                      .rename(columns={\"mb_used\": \"mb_month\"}))"
   ]
  },
  {
   "cell_type": "code",
   "execution_count": 365,
   "id": "38b6b5d8",
   "metadata": {},
   "outputs": [
    {
     "name": "stdout",
     "output_type": "stream",
     "text": [
      "   user_id    month  minutes_month\n",
      "0     1000  2018-12            124\n",
      "1     1001  2018-08            182\n",
      "2     1001  2018-09            315\n",
      "3     1001  2018-10            393\n",
      "4     1001  2018-11            426\n",
      "   user_id    month  sms_month\n",
      "0     1000  2018-12         11\n",
      "1     1001  2018-08         30\n",
      "2     1001  2018-09         44\n",
      "3     1001  2018-10         53\n",
      "4     1001  2018-11         36\n",
      "   user_id    month  mb_month\n",
      "0     1000  2018-12   1901.47\n",
      "1     1001  2018-08   6919.15\n",
      "2     1001  2018-09  13314.82\n",
      "3     1001  2018-10  22330.49\n",
      "4     1001  2018-11  18504.30\n"
     ]
    }
   ],
   "source": [
    "print(agg_calls.head())\n",
    "print(agg_sms.head())\n",
    "print(agg_net.head())"
   ]
  },
  {
   "cell_type": "code",
   "execution_count": 366,
   "id": "f8268b58",
   "metadata": {},
   "outputs": [],
   "source": [
    "# Build the base user-month table\n",
    "user_month = pd.concat(\n",
    "    [agg_calls[[\"user_id\", \"month\"]],\n",
    "     agg_sms[[\"user_id\", \"month\"]],\n",
    "     agg_net[[\"user_id\", \"month\"]]],\n",
    "    ignore_index=True\n",
    ").drop_duplicates()\n",
    "\n",
    "um = (user_month\n",
    "      .merge(agg_calls, on=[\"user_id\", \"month\"], how=\"left\")\n",
    "      .merge(agg_sms,   on=[\"user_id\", \"month\"], how=\"left\")\n",
    "      .merge(agg_net,   on=[\"user_id\", \"month\"], how=\"left\"))\n",
    "\n",
    "um[[\"minutes_month\", \"sms_month\", \"mb_month\"]] = um[[\"minutes_month\", \"sms_month\", \"mb_month\"]].fillna(0)"
   ]
  },
  {
   "cell_type": "code",
   "execution_count": 367,
   "id": "4d28418a",
   "metadata": {},
   "outputs": [
    {
     "data": {
      "text/html": [
       "<div>\n",
       "<style scoped>\n",
       "    .dataframe tbody tr th:only-of-type {\n",
       "        vertical-align: middle;\n",
       "    }\n",
       "\n",
       "    .dataframe tbody tr th {\n",
       "        vertical-align: top;\n",
       "    }\n",
       "\n",
       "    .dataframe thead th {\n",
       "        text-align: right;\n",
       "    }\n",
       "</style>\n",
       "<table border=\"1\" class=\"dataframe\">\n",
       "  <thead>\n",
       "    <tr style=\"text-align: right;\">\n",
       "      <th></th>\n",
       "      <th>user_id</th>\n",
       "      <th>month</th>\n",
       "    </tr>\n",
       "  </thead>\n",
       "  <tbody>\n",
       "    <tr>\n",
       "      <th>0</th>\n",
       "      <td>1000</td>\n",
       "      <td>2018-12</td>\n",
       "    </tr>\n",
       "    <tr>\n",
       "      <th>1</th>\n",
       "      <td>1001</td>\n",
       "      <td>2018-08</td>\n",
       "    </tr>\n",
       "    <tr>\n",
       "      <th>2</th>\n",
       "      <td>1001</td>\n",
       "      <td>2018-09</td>\n",
       "    </tr>\n",
       "    <tr>\n",
       "      <th>3</th>\n",
       "      <td>1001</td>\n",
       "      <td>2018-10</td>\n",
       "    </tr>\n",
       "    <tr>\n",
       "      <th>4</th>\n",
       "      <td>1001</td>\n",
       "      <td>2018-11</td>\n",
       "    </tr>\n",
       "  </tbody>\n",
       "</table>\n",
       "</div>"
      ],
      "text/plain": [
       "   user_id    month\n",
       "0     1000  2018-12\n",
       "1     1001  2018-08\n",
       "2     1001  2018-09\n",
       "3     1001  2018-10\n",
       "4     1001  2018-11"
      ]
     },
     "execution_count": 367,
     "metadata": {},
     "output_type": "execute_result"
    }
   ],
   "source": [
    "user_month.head()"
   ]
  },
  {
   "cell_type": "code",
   "execution_count": 368,
   "id": "7032c784",
   "metadata": {},
   "outputs": [],
   "source": [
    "# Merge user info and plan economics without suffixes\n",
    "\n",
    "# Users: keep only what we need and normalize plan labels\n",
    "users_slim = users[[\"user_id\", \"city\", \"plan\"]].copy()\n",
    "users_slim[\"plan\"] = users_slim[\"plan\"].astype(str).str.strip().str.lower()\n",
    "\n",
    "# Plans: select canonical columns only and align key name\n",
    "plans_slim = plans[[\n",
    "    \"plan_name\", \"usd_monthly_fee\", \"minutes_included\", \"messages_included\",\n",
    "    \"mb_per_month_included\", \"usd_per_minute\", \"usd_per_message\", \"usd_per_gb\"\n",
    "]].copy()\n",
    "plans_slim = plans_slim.rename(columns={\"plan_name\": \"plan\"})\n",
    "\n",
    "# Users + plans\n",
    "users_plans = users_slim.merge(plans_slim, on=\"plan\", how=\"left\")\n",
    "\n",
    "# Attach to user-month table\n",
    "um = um.merge(users_plans, on=\"user_id\", how=\"left\")"
   ]
  },
  {
   "cell_type": "code",
   "execution_count": 369,
   "id": "79279636",
   "metadata": {},
   "outputs": [
    {
     "data": {
      "text/html": [
       "<div>\n",
       "<style scoped>\n",
       "    .dataframe tbody tr th:only-of-type {\n",
       "        vertical-align: middle;\n",
       "    }\n",
       "\n",
       "    .dataframe tbody tr th {\n",
       "        vertical-align: top;\n",
       "    }\n",
       "\n",
       "    .dataframe thead th {\n",
       "        text-align: right;\n",
       "    }\n",
       "</style>\n",
       "<table border=\"1\" class=\"dataframe\">\n",
       "  <thead>\n",
       "    <tr style=\"text-align: right;\">\n",
       "      <th></th>\n",
       "      <th>user_id</th>\n",
       "      <th>month</th>\n",
       "      <th>minutes_month</th>\n",
       "      <th>sms_month</th>\n",
       "      <th>mb_month</th>\n",
       "      <th>city</th>\n",
       "      <th>plan</th>\n",
       "      <th>usd_monthly_fee</th>\n",
       "      <th>minutes_included</th>\n",
       "      <th>messages_included</th>\n",
       "      <th>mb_per_month_included</th>\n",
       "      <th>usd_per_minute</th>\n",
       "      <th>usd_per_message</th>\n",
       "      <th>usd_per_gb</th>\n",
       "    </tr>\n",
       "  </thead>\n",
       "  <tbody>\n",
       "    <tr>\n",
       "      <th>0</th>\n",
       "      <td>1000</td>\n",
       "      <td>2018-12</td>\n",
       "      <td>124.0</td>\n",
       "      <td>11.0</td>\n",
       "      <td>1901.47</td>\n",
       "      <td>Atlanta-Sandy Springs-Roswell, GA MSA</td>\n",
       "      <td>ultimate</td>\n",
       "      <td>70</td>\n",
       "      <td>3000</td>\n",
       "      <td>1000</td>\n",
       "      <td>30720</td>\n",
       "      <td>0.01</td>\n",
       "      <td>0.01</td>\n",
       "      <td>7</td>\n",
       "    </tr>\n",
       "    <tr>\n",
       "      <th>1</th>\n",
       "      <td>1001</td>\n",
       "      <td>2018-08</td>\n",
       "      <td>182.0</td>\n",
       "      <td>30.0</td>\n",
       "      <td>6919.15</td>\n",
       "      <td>Seattle-Tacoma-Bellevue, WA MSA</td>\n",
       "      <td>surf</td>\n",
       "      <td>20</td>\n",
       "      <td>500</td>\n",
       "      <td>50</td>\n",
       "      <td>15360</td>\n",
       "      <td>0.03</td>\n",
       "      <td>0.03</td>\n",
       "      <td>10</td>\n",
       "    </tr>\n",
       "    <tr>\n",
       "      <th>2</th>\n",
       "      <td>1001</td>\n",
       "      <td>2018-09</td>\n",
       "      <td>315.0</td>\n",
       "      <td>44.0</td>\n",
       "      <td>13314.82</td>\n",
       "      <td>Seattle-Tacoma-Bellevue, WA MSA</td>\n",
       "      <td>surf</td>\n",
       "      <td>20</td>\n",
       "      <td>500</td>\n",
       "      <td>50</td>\n",
       "      <td>15360</td>\n",
       "      <td>0.03</td>\n",
       "      <td>0.03</td>\n",
       "      <td>10</td>\n",
       "    </tr>\n",
       "    <tr>\n",
       "      <th>3</th>\n",
       "      <td>1001</td>\n",
       "      <td>2018-10</td>\n",
       "      <td>393.0</td>\n",
       "      <td>53.0</td>\n",
       "      <td>22330.49</td>\n",
       "      <td>Seattle-Tacoma-Bellevue, WA MSA</td>\n",
       "      <td>surf</td>\n",
       "      <td>20</td>\n",
       "      <td>500</td>\n",
       "      <td>50</td>\n",
       "      <td>15360</td>\n",
       "      <td>0.03</td>\n",
       "      <td>0.03</td>\n",
       "      <td>10</td>\n",
       "    </tr>\n",
       "    <tr>\n",
       "      <th>4</th>\n",
       "      <td>1001</td>\n",
       "      <td>2018-11</td>\n",
       "      <td>426.0</td>\n",
       "      <td>36.0</td>\n",
       "      <td>18504.30</td>\n",
       "      <td>Seattle-Tacoma-Bellevue, WA MSA</td>\n",
       "      <td>surf</td>\n",
       "      <td>20</td>\n",
       "      <td>500</td>\n",
       "      <td>50</td>\n",
       "      <td>15360</td>\n",
       "      <td>0.03</td>\n",
       "      <td>0.03</td>\n",
       "      <td>10</td>\n",
       "    </tr>\n",
       "  </tbody>\n",
       "</table>\n",
       "</div>"
      ],
      "text/plain": [
       "   user_id    month  minutes_month  sms_month  mb_month                                   city      plan  usd_monthly_fee  \\\n",
       "0     1000  2018-12          124.0       11.0   1901.47  Atlanta-Sandy Springs-Roswell, GA MSA  ultimate               70   \n",
       "1     1001  2018-08          182.0       30.0   6919.15        Seattle-Tacoma-Bellevue, WA MSA      surf               20   \n",
       "2     1001  2018-09          315.0       44.0  13314.82        Seattle-Tacoma-Bellevue, WA MSA      surf               20   \n",
       "3     1001  2018-10          393.0       53.0  22330.49        Seattle-Tacoma-Bellevue, WA MSA      surf               20   \n",
       "4     1001  2018-11          426.0       36.0  18504.30        Seattle-Tacoma-Bellevue, WA MSA      surf               20   \n",
       "\n",
       "   minutes_included  messages_included  mb_per_month_included  usd_per_minute  usd_per_message  usd_per_gb  \n",
       "0              3000               1000                  30720            0.01             0.01           7  \n",
       "1               500                 50                  15360            0.03             0.03          10  \n",
       "2               500                 50                  15360            0.03             0.03          10  \n",
       "3               500                 50                  15360            0.03             0.03          10  \n",
       "4               500                 50                  15360            0.03             0.03          10  "
      ]
     },
     "execution_count": 369,
     "metadata": {},
     "output_type": "execute_result"
    }
   ],
   "source": [
    "um.head()"
   ]
  },
  {
   "cell_type": "code",
   "execution_count": 370,
   "id": "c9a9c135",
   "metadata": {},
   "outputs": [],
   "source": [
    "# Validate that all required plan columns are present in `um`\n",
    "required_cols = [\n",
    "    \"minutes_included\", \"messages_included\", \"mb_per_month_included\",\n",
    "    \"usd_per_minute\", \"usd_per_message\", \"usd_per_gb\", \"usd_monthly_fee\"\n",
    "]\n",
    "missing_um = [c for c in required_cols if c not in um.columns]\n",
    "if missing_um:\n",
    "    print(\"Columns in um:\", um.columns.tolist())\n",
    "    raise AssertionError(f\"Missing plan columns in um: {missing_um}\")"
   ]
  },
  {
   "cell_type": "code",
   "execution_count": 371,
   "id": "bd06df93",
   "metadata": {},
   "outputs": [],
   "source": [
    "# Revenue calculation\n",
    "def compute_revenue(row):\n",
    "    inc_min = row[\"minutes_included\"]\n",
    "    inc_sms = row[\"messages_included\"]\n",
    "    inc_mb  = row[\"mb_per_month_included\"]\n",
    "\n",
    "    used_min = row[\"minutes_month\"]\n",
    "    used_sms = row[\"sms_month\"]\n",
    "    used_mb  = row[\"mb_month\"]\n",
    "\n",
    "    # Overages (non-negative)\n",
    "    over_min = max(0, used_min - inc_min)\n",
    "    over_sms = max(0, used_sms - inc_sms)\n",
    "    over_mb  = max(0, used_mb - inc_mb)\n",
    "\n",
    "    # Monthly data overage is billed per full GB (rounded up)\n",
    "    over_gb = int(np.ceil(over_mb / 1024)) if over_mb > 0 else 0\n",
    "\n",
    "    cost_min = over_min * row[\"usd_per_minute\"]\n",
    "    cost_sms = over_sms * row[\"usd_per_message\"]\n",
    "    cost_gb  = over_gb  * row[\"usd_per_gb\"]\n",
    "\n",
    "    return row[\"usd_monthly_fee\"] + cost_min + cost_sms + cost_gb\n",
    "\n",
    "um[\"monthly_revenue\"] = um.apply(compute_revenue, axis=1)"
   ]
  },
  {
   "cell_type": "code",
   "execution_count": 372,
   "id": "05a38ca0",
   "metadata": {},
   "outputs": [
    {
     "name": "stdout",
     "output_type": "stream",
     "text": [
      "Monthly revenue nulls: 0\n",
      "           count   mean    std   min   25%    50%    75%     max\n",
      "plan                                                            \n",
      "surf      1573.0  60.71  55.39  20.0  20.0  40.36  80.36  590.37\n",
      "ultimate   720.0  72.31  11.40  70.0  70.0  70.00  70.00  182.00\n"
     ]
    },
    {
     "data": {
      "text/html": [
       "<div>\n",
       "<style scoped>\n",
       "    .dataframe tbody tr th:only-of-type {\n",
       "        vertical-align: middle;\n",
       "    }\n",
       "\n",
       "    .dataframe tbody tr th {\n",
       "        vertical-align: top;\n",
       "    }\n",
       "\n",
       "    .dataframe thead th {\n",
       "        text-align: right;\n",
       "    }\n",
       "</style>\n",
       "<table border=\"1\" class=\"dataframe\">\n",
       "  <thead>\n",
       "    <tr style=\"text-align: right;\">\n",
       "      <th></th>\n",
       "      <th>user_id</th>\n",
       "      <th>month</th>\n",
       "      <th>minutes_month</th>\n",
       "      <th>sms_month</th>\n",
       "      <th>mb_month</th>\n",
       "      <th>city</th>\n",
       "      <th>plan</th>\n",
       "      <th>usd_monthly_fee</th>\n",
       "      <th>minutes_included</th>\n",
       "      <th>messages_included</th>\n",
       "      <th>mb_per_month_included</th>\n",
       "      <th>usd_per_minute</th>\n",
       "      <th>usd_per_message</th>\n",
       "      <th>usd_per_gb</th>\n",
       "      <th>monthly_revenue</th>\n",
       "    </tr>\n",
       "  </thead>\n",
       "  <tbody>\n",
       "    <tr>\n",
       "      <th>0</th>\n",
       "      <td>1000</td>\n",
       "      <td>2018-12</td>\n",
       "      <td>124.0</td>\n",
       "      <td>11.0</td>\n",
       "      <td>1901.47</td>\n",
       "      <td>Atlanta-Sandy Springs-Roswell, GA MSA</td>\n",
       "      <td>ultimate</td>\n",
       "      <td>70</td>\n",
       "      <td>3000</td>\n",
       "      <td>1000</td>\n",
       "      <td>30720</td>\n",
       "      <td>0.01</td>\n",
       "      <td>0.01</td>\n",
       "      <td>7</td>\n",
       "      <td>70.00</td>\n",
       "    </tr>\n",
       "    <tr>\n",
       "      <th>1</th>\n",
       "      <td>1001</td>\n",
       "      <td>2018-08</td>\n",
       "      <td>182.0</td>\n",
       "      <td>30.0</td>\n",
       "      <td>6919.15</td>\n",
       "      <td>Seattle-Tacoma-Bellevue, WA MSA</td>\n",
       "      <td>surf</td>\n",
       "      <td>20</td>\n",
       "      <td>500</td>\n",
       "      <td>50</td>\n",
       "      <td>15360</td>\n",
       "      <td>0.03</td>\n",
       "      <td>0.03</td>\n",
       "      <td>10</td>\n",
       "      <td>20.00</td>\n",
       "    </tr>\n",
       "    <tr>\n",
       "      <th>2</th>\n",
       "      <td>1001</td>\n",
       "      <td>2018-09</td>\n",
       "      <td>315.0</td>\n",
       "      <td>44.0</td>\n",
       "      <td>13314.82</td>\n",
       "      <td>Seattle-Tacoma-Bellevue, WA MSA</td>\n",
       "      <td>surf</td>\n",
       "      <td>20</td>\n",
       "      <td>500</td>\n",
       "      <td>50</td>\n",
       "      <td>15360</td>\n",
       "      <td>0.03</td>\n",
       "      <td>0.03</td>\n",
       "      <td>10</td>\n",
       "      <td>20.00</td>\n",
       "    </tr>\n",
       "    <tr>\n",
       "      <th>3</th>\n",
       "      <td>1001</td>\n",
       "      <td>2018-10</td>\n",
       "      <td>393.0</td>\n",
       "      <td>53.0</td>\n",
       "      <td>22330.49</td>\n",
       "      <td>Seattle-Tacoma-Bellevue, WA MSA</td>\n",
       "      <td>surf</td>\n",
       "      <td>20</td>\n",
       "      <td>500</td>\n",
       "      <td>50</td>\n",
       "      <td>15360</td>\n",
       "      <td>0.03</td>\n",
       "      <td>0.03</td>\n",
       "      <td>10</td>\n",
       "      <td>90.09</td>\n",
       "    </tr>\n",
       "    <tr>\n",
       "      <th>4</th>\n",
       "      <td>1001</td>\n",
       "      <td>2018-11</td>\n",
       "      <td>426.0</td>\n",
       "      <td>36.0</td>\n",
       "      <td>18504.30</td>\n",
       "      <td>Seattle-Tacoma-Bellevue, WA MSA</td>\n",
       "      <td>surf</td>\n",
       "      <td>20</td>\n",
       "      <td>500</td>\n",
       "      <td>50</td>\n",
       "      <td>15360</td>\n",
       "      <td>0.03</td>\n",
       "      <td>0.03</td>\n",
       "      <td>10</td>\n",
       "      <td>60.00</td>\n",
       "    </tr>\n",
       "  </tbody>\n",
       "</table>\n",
       "</div>"
      ],
      "text/plain": [
       "   user_id    month  minutes_month  sms_month  mb_month                                   city      plan  usd_monthly_fee  \\\n",
       "0     1000  2018-12          124.0       11.0   1901.47  Atlanta-Sandy Springs-Roswell, GA MSA  ultimate               70   \n",
       "1     1001  2018-08          182.0       30.0   6919.15        Seattle-Tacoma-Bellevue, WA MSA      surf               20   \n",
       "2     1001  2018-09          315.0       44.0  13314.82        Seattle-Tacoma-Bellevue, WA MSA      surf               20   \n",
       "3     1001  2018-10          393.0       53.0  22330.49        Seattle-Tacoma-Bellevue, WA MSA      surf               20   \n",
       "4     1001  2018-11          426.0       36.0  18504.30        Seattle-Tacoma-Bellevue, WA MSA      surf               20   \n",
       "\n",
       "   minutes_included  messages_included  mb_per_month_included  usd_per_minute  usd_per_message  usd_per_gb  monthly_revenue  \n",
       "0              3000               1000                  30720            0.01             0.01           7            70.00  \n",
       "1               500                 50                  15360            0.03             0.03          10            20.00  \n",
       "2               500                 50                  15360            0.03             0.03          10            20.00  \n",
       "3               500                 50                  15360            0.03             0.03          10            90.09  \n",
       "4               500                 50                  15360            0.03             0.03          10            60.00  "
      ]
     },
     "execution_count": 372,
     "metadata": {},
     "output_type": "execute_result"
    }
   ],
   "source": [
    "# Quick checks\n",
    "print(\"Monthly revenue nulls:\", um[\"monthly_revenue\"].isna().sum())\n",
    "print(\n",
    "    um.groupby(\"plan\")[\"monthly_revenue\"]\n",
    "      .describe()\n",
    "      .round(2)\n",
    ")\n",
    "um.head()"
   ]
  },
  {
   "cell_type": "code",
   "execution_count": 373,
   "id": "7a7cb232",
   "metadata": {},
   "outputs": [],
   "source": [
    "# Set a consistent style\n",
    "plt.style.use(\"seaborn-v0_8-whitegrid\")\n",
    "\n",
    "# Make plots a bit bigger\n",
    "plt.rcParams[\"figure.figsize\"] = (10, 5)"
   ]
  },
  {
   "cell_type": "code",
   "execution_count": 374,
   "id": "79d6fd7f",
   "metadata": {},
   "outputs": [
    {
     "data": {
      "image/png": "[encoded data removed]",
      "text/plain": [
       "<Figure size 1000x500 with 1 Axes>"
      ]
     },
     "metadata": {},
     "output_type": "display_data"
    }
   ],
   "source": [
    "# Histogram — Minutes per Month\n",
    "plt.hist(um[\"minutes_month\"], bins=30, color=\"#3498db\", edgecolor=\"black\", alpha=0.7)\n",
    "plt.title(\"Distribution of Monthly Call Minutes\")\n",
    "plt.xlabel(\"Minutes per Month\")\n",
    "plt.ylabel(\"Number of Users\")\n",
    "plt.show()"
   ]
  },
  {
   "cell_type": "markdown",
   "id": "29913ead",
   "metadata": {},
   "source": [
    "Most customers use fewer than 600–800 minutes per month.\n",
    "There’s a right-skew (a long tail), meaning a few users make very high call usage."
   ]
  },
  {
   "cell_type": "code",
   "execution_count": 375,
   "id": "a9ce45cd",
   "metadata": {},
   "outputs": [
    {
     "data": {
      "image/png": "[encoded data removed]",
      "text/plain": [
       "<Figure size 1000x500 with 1 Axes>"
      ]
     },
     "metadata": {},
     "output_type": "display_data"
    }
   ],
   "source": [
    "# Histogram — SMS per Month\n",
    "plt.hist(um[\"sms_month\"], bins=30, color=\"#f39c12\", edgecolor=\"black\", alpha=0.7)\n",
    "plt.title(\"Distribution of Monthly SMS\")\n",
    "plt.xlabel(\"SMS per Month\")\n",
    "plt.ylabel(\"Number of Users\")\n",
    "plt.show()"
   ]
  },
  {
   "cell_type": "markdown",
   "id": "280cbee8",
   "metadata": {},
   "source": [
    "The SMS distribution is highly right-skewed — most people send few or no messages,\n",
    "while a small number of users send a lot (hundreds)."
   ]
  },
  {
   "cell_type": "code",
   "execution_count": 376,
   "id": "8daeb3cf",
   "metadata": {},
   "outputs": [
    {
     "data": {
      "image/png": "[encoded data removed]",
      "text/plain": [
       "<Figure size 1000x500 with 1 Axes>"
      ]
     },
     "metadata": {},
     "output_type": "display_data"
    }
   ],
   "source": [
    "# Histogram — Data Usage (MB)\n",
    "plt.hist(um[\"mb_month\"], bins=30, color=\"#2ecc71\", edgecolor=\"black\", alpha=0.7)\n",
    "plt.title(\"Distribution of Monthly Internet Usage (MB)\")\n",
    "plt.xlabel(\"Megabytes per Month\")\n",
    "plt.ylabel(\"Number of Users\")\n",
    "plt.show()"
   ]
  },
  {
   "cell_type": "markdown",
   "id": "6738cbf3",
   "metadata": {},
   "source": [
    "Many users stay under ~15,000 MB (≈15 GB), but some go far beyond the limit —\n",
    "consistent with typical mobile data behavior."
   ]
  },
  {
   "cell_type": "code",
   "execution_count": 377,
   "id": "1b60d414",
   "metadata": {},
   "outputs": [
    {
     "data": {
      "image/png": "[encoded data removed]",
      "text/plain": [
       "<Figure size 1000x500 with 1 Axes>"
      ]
     },
     "metadata": {},
     "output_type": "display_data"
    }
   ],
   "source": [
    "plt.hist(um[\"monthly_revenue\"], bins=30, color=\"#9b59b6\", edgecolor=\"black\", alpha=0.7)\n",
    "plt.title(\"Distribution of Monthly Revenue per User\")\n",
    "plt.xlabel(\"Monthly Revenue (USD)\")\n",
    "plt.ylabel(\"Number of Users\")\n",
    "plt.show()"
   ]
  },
  {
   "cell_type": "markdown",
   "id": "57c88a75",
   "metadata": {},
   "source": [
    "Revenue clusters around the plan base prices ($20 and $70), with occasional higher values\n",
    "from overages — this indicates that most users don’t exceed their limits,\n",
    "but some contribute additional revenue from extra minutes, data, or SMS."
   ]
  },
  {
   "cell_type": "markdown",
   "id": "7650a345",
   "metadata": {},
   "source": [
    "--- \n",
    "\n",
    "### Hypothesis Testing"
   ]
  },
  {
   "cell_type": "markdown",
   "id": "2621ba13",
   "metadata": {},
   "source": [
    "We’ll test two hypotheses using statistical methods to determine whether observed differences in revenue are statistically significant or just random variation.\n",
    "\n",
    "\n",
    "#### Hypothesis 1:\n",
    "\n",
    "The average monthly revenue differs between the Surf and Ultimate plans."
   ]
  },
  {
   "cell_type": "markdown",
   "id": "c9caef25",
   "metadata": {},
   "source": [
    "Formulation:\n",
    "- H₀ (null hypothesis): The average monthly revenue for Surf and Ultimate users is equal.\n",
    "- H₁ (alternative hypothesis): The average monthly revenue for Surf and Ultimate users is different."
   ]
  },
  {
   "cell_type": "code",
   "execution_count": 378,
   "id": "09acde28",
   "metadata": {},
   "outputs": [
    {
     "name": "stdout",
     "output_type": "stream",
     "text": [
      "ShapiroResult(statistic=np.float64(0.7241777754675051), pvalue=np.float64(6.426681244543416e-28))\n",
      "ShapiroResult(statistic=np.float64(0.23573817659038876), pvalue=np.float64(6.776521494033118e-41))\n",
      "Levene test p-value: 5.028876110654919e-83\n"
     ]
    }
   ],
   "source": [
    "# Separate revenue by plan\n",
    "surf_rev = um.loc[um[\"plan\"] == \"surf\", \"monthly_revenue\"]\n",
    "ultimate_rev = um.loc[um[\"plan\"] == \"ultimate\", \"monthly_revenue\"]\n",
    "\n",
    "# (Optional) Normality test – Shapiro-Wilk on a sample for speed\n",
    "print(stats.shapiro(surf_rev.sample(500, random_state=42)))\n",
    "print(stats.shapiro(ultimate_rev.sample(500, random_state=42)))\n",
    "\n",
    "# Check equality of variances (Levene's test)\n",
    "levene_test = stats.levene(surf_rev, ultimate_rev)\n",
    "print(\"Levene test p-value:\", levene_test.pvalue)"
   ]
  },
  {
   "cell_type": "code",
   "execution_count": 379,
   "id": "a144ae3c",
   "metadata": {},
   "outputs": [
    {
     "name": "stdout",
     "output_type": "stream",
     "text": [
      "T-statistic = -7.952\n",
      "P-value = 0.0000\n"
     ]
    }
   ],
   "source": [
    "# Two-sample t-test (Welch’s version, does not assume equal variances)\n",
    "t_stat, p_value = stats.ttest_ind(surf_rev, ultimate_rev, equal_var=False)\n",
    "\n",
    "print(f\"T-statistic = {t_stat:.3f}\")\n",
    "print(f\"P-value = {p_value:.4f}\")"
   ]
  },
  {
   "cell_type": "markdown",
   "id": "3a67a885",
   "metadata": {},
   "source": [
    "Interpretation\n",
    "- If p-value < 0.05, reject H₀ → there is a significant difference in average revenue between the two plans.\n",
    "- If p-value ≥ 0.05, fail to reject H₀ → there’s no statistical evidence of a difference."
   ]
  },
  {
   "cell_type": "markdown",
   "id": "84c721cb",
   "metadata": {},
   "source": [
    "Therefore\n",
    "\n",
    "We reject null hypothesis, there is a statistically significant difference in the average monthly revenue between the two plans.\n",
    "\n",
    "\n",
    "- The result indicates that the difference in mean revenue between Surf and Ultimate users is not due to random chance.\n",
    "- Users on the Ultimate plan generate significantly higher monthly revenue.\n",
    "- This supports the business intuition that the Ultimate plan is more profitable, even if it’s used by fewer customers."
   ]
  },
  {
   "cell_type": "code",
   "execution_count": 380,
   "id": "8a001092",
   "metadata": {},
   "outputs": [
    {
     "data": {
      "text/html": [
       "<div>\n",
       "<style scoped>\n",
       "    .dataframe tbody tr th:only-of-type {\n",
       "        vertical-align: middle;\n",
       "    }\n",
       "\n",
       "    .dataframe tbody tr th {\n",
       "        vertical-align: top;\n",
       "    }\n",
       "\n",
       "    .dataframe thead th {\n",
       "        text-align: right;\n",
       "    }\n",
       "</style>\n",
       "<table border=\"1\" class=\"dataframe\">\n",
       "  <thead>\n",
       "    <tr style=\"text-align: right;\">\n",
       "      <th></th>\n",
       "      <th>mean</th>\n",
       "      <th>std</th>\n",
       "    </tr>\n",
       "    <tr>\n",
       "      <th>plan</th>\n",
       "      <th></th>\n",
       "      <th></th>\n",
       "    </tr>\n",
       "  </thead>\n",
       "  <tbody>\n",
       "    <tr>\n",
       "      <th>surf</th>\n",
       "      <td>60.71</td>\n",
       "      <td>55.39</td>\n",
       "    </tr>\n",
       "    <tr>\n",
       "      <th>ultimate</th>\n",
       "      <td>72.31</td>\n",
       "      <td>11.40</td>\n",
       "    </tr>\n",
       "  </tbody>\n",
       "</table>\n",
       "</div>"
      ],
      "text/plain": [
       "           mean    std\n",
       "plan                  \n",
       "surf      60.71  55.39\n",
       "ultimate  72.31  11.40"
      ]
     },
     "execution_count": 380,
     "metadata": {},
     "output_type": "execute_result"
    }
   ],
   "source": [
    "# Summary statistics by plan\n",
    "um.groupby(\"plan\")[\"monthly_revenue\"].agg([\"mean\", \"std\"]).round(2)"
   ]
  },
  {
   "cell_type": "markdown",
   "id": "0aa7b9c5",
   "metadata": {},
   "source": [
    "1.\tAverage revenue:\n",
    "- On average, Ultimate users generate about $72.31 per month, while Surf users generate about $60.71.\n",
    "- That’s a ~$11.6 difference in favor of the Ultimate plan.\n",
    "\n",
    "2.\tRevenue variability:\n",
    "- The Surf plan shows a much higher standard deviation (55.39), meaning there’s greater variability among Surf users — some pay the base $20, while others exceed usage and pay much more.\n",
    "- The Ultimate plan’s lower standard deviation (11.40) indicates more consistent spending; users tend to stay near the base $70 fee.\n",
    "\n",
    "3.\tBusiness insight:\n",
    "- Although the Ultimate plan produces higher average revenue, the Surf plan generates more variability — possibly more upsell potential from heavy users.\n",
    "- The company could focus on encouraging high-usage Surf customers to upgrade to Ultimate, stabilizing revenue and reducing volatility."
   ]
  },
  {
   "cell_type": "code",
   "execution_count": 381,
   "id": "b43857fa",
   "metadata": {},
   "outputs": [
    {
     "name": "stderr",
     "output_type": "stream",
     "text": [
      "/var/folders/9g/y9hgn7sd4_g82q2m37vjhtlw0000gn/T/ipykernel_4724/1030351834.py:2: FutureWarning: \n",
      "\n",
      "Passing `palette` without assigning `hue` is deprecated and will be removed in v0.14.0. Assign the `x` variable to `hue` and set `legend=False` for the same effect.\n",
      "\n",
      "  sns.boxplot(data=um, x=\"plan\", y=\"monthly_revenue\", palette=\"pastel\")\n"
     ]
    },
    {
     "data": {
      "image/png": "[encoded data removed]",
      "text/plain": [
       "<Figure size 1000x500 with 1 Axes>"
      ]
     },
     "metadata": {},
     "output_type": "display_data"
    }
   ],
   "source": [
    "# Visual comparison (boxplot)\n",
    "sns.boxplot(data=um, x=\"plan\", y=\"monthly_revenue\", palette=\"pastel\")\n",
    "plt.title(\"Monthly Revenue by Plan\")\n",
    "plt.show()"
   ]
  },
  {
   "cell_type": "markdown",
   "id": "5da0183a",
   "metadata": {},
   "source": [
    "---\n",
    "\n",
    "#### Hypothesis 2:\n",
    "\n",
    "The average monthly revenue for users in the New York–New Jersey area differs from that of users in other regions."
   ]
  },
  {
   "cell_type": "markdown",
   "id": "ba376ecf",
   "metadata": {},
   "source": [
    "Formulation\n",
    "- H₀: The average monthly revenue in the NY–NJ area is equal to that of other regions.\n",
    "- H₁: The average monthly revenue in the NY–NJ area is different from other regions."
   ]
  },
  {
   "cell_type": "code",
   "execution_count": 382,
   "id": "dd93d1d4",
   "metadata": {},
   "outputs": [
    {
     "name": "stdout",
     "output_type": "stream",
     "text": [
      "LeveneResult(statistic=np.float64(2.345281651730069), pvalue=np.float64(0.125800911096124))\n"
     ]
    }
   ],
   "source": [
    "# Split users by location\n",
    "ny_nj_rev = um.loc[um[\"city\"].str.contains(\"New York|New Jersey\"), \"monthly_revenue\"]\n",
    "other_rev = um.loc[~um[\"city\"].str.contains(\"New York|New Jersey\"), \"monthly_revenue\"]\n",
    "\n",
    "# Check variances\n",
    "print(stats.levene(ny_nj_rev, other_rev))"
   ]
  },
  {
   "cell_type": "code",
   "execution_count": 383,
   "id": "41349294",
   "metadata": {},
   "outputs": [
    {
     "name": "stdout",
     "output_type": "stream",
     "text": [
      "T-statistic = -2.131\n",
      "P-value = 0.0335\n"
     ]
    }
   ],
   "source": [
    "# Independent two-sample t-test\n",
    "t_stat2, p_value2 = stats.ttest_ind(ny_nj_rev, other_rev, equal_var=False)\n",
    "\n",
    "print(f\"T-statistic = {t_stat2:.3f}\")\n",
    "print(f\"P-value = {p_value2:.4f}\")"
   ]
  },
  {
   "cell_type": "markdown",
   "id": "38538cff",
   "metadata": {},
   "source": [
    "Interpretation\n",
    "- If p-value < 0.05, reject H₀ → revenue differs significantly between NY–NJ and other regions.\n",
    "- If p-value ≥ 0.05, fail to reject H₀ → there’s no significant difference in revenue by region."
   ]
  },
  {
   "cell_type": "markdown",
   "id": "23241b9b",
   "metadata": {},
   "source": [
    "Therefore\n",
    "\n",
    "We reject the null hypothesis, there is a statistically significant difference in average monthly revenue between users in the New York–New Jersey area and those in other regions.\n",
    "\n",
    "- The result indicates that location has a measurable impact on user revenue.\n",
    "- Although statistically significant, the magnitude of this difference (effect size) should be examined to confirm whether it’s also business-significant."
   ]
  },
  {
   "cell_type": "code",
   "execution_count": 384,
   "id": "0b83c884",
   "metadata": {},
   "outputs": [
    {
     "data": {
      "text/plain": [
       "region_label\n",
       "NY–NJ Area       59.92\n",
       "Other Regions    65.22\n",
       "Name: monthly_revenue, dtype: float64"
      ]
     },
     "execution_count": 384,
     "metadata": {},
     "output_type": "execute_result"
    }
   ],
   "source": [
    "# Create the region label column first\n",
    "um[\"region_label\"] = np.where(\n",
    "    um[\"city\"].str.contains(\"New York|New Jersey\", case=False, na=False),\n",
    "    \"NY–NJ Area\",\n",
    "    \"Other Regions\")\n",
    "\n",
    "um.groupby(\"region_label\")[\"monthly_revenue\"].mean().round(2)"
   ]
  },
  {
   "cell_type": "markdown",
   "id": "b7f474d3",
   "metadata": {},
   "source": [
    "- The difference is statistically significant but negative, meaning users in the New York–New Jersey area spend less on average than users elsewhere.\n",
    "- The difference is about $5 per month, which is small but measurable.\n",
    "- So while location does have an effect, it’s not economically large, the impact is statistically real but not major in business terms."
   ]
  },
  {
   "cell_type": "code",
   "execution_count": 385,
   "id": "9b54a4ac",
   "metadata": {},
   "outputs": [
    {
     "name": "stderr",
     "output_type": "stream",
     "text": [
      "/var/folders/9g/y9hgn7sd4_g82q2m37vjhtlw0000gn/T/ipykernel_4724/2949867173.py:2: FutureWarning: \n",
      "\n",
      "Passing `palette` without assigning `hue` is deprecated and will be removed in v0.14.0. Assign the `x` variable to `hue` and set `legend=False` for the same effect.\n",
      "\n",
      "  sns.boxplot(\n"
     ]
    },
    {
     "data": {
      "image/png": "[encoded data removed]",
      "text/plain": [
       "<Figure size 1000x500 with 1 Axes>"
      ]
     },
     "metadata": {},
     "output_type": "display_data"
    }
   ],
   "source": [
    "# Now plot using that new column\n",
    "sns.boxplot(\n",
    "    data=um,\n",
    "    x=\"region_label\",        \n",
    "    y=\"monthly_revenue\",\n",
    "    palette=\"pastel\"\n",
    ")\n",
    "plt.xlabel(\"Region\")\n",
    "plt.ylabel(\"Monthly Revenue (USD)\")\n",
    "plt.title(\"Monthly Revenue Comparison: NY–NJ vs Other Regions\")\n",
    "plt.show()"
   ]
  }
 ],
 "metadata": {
  "kernelspec": {
   "display_name": "base",
   "language": "python",
   "name": "python3"
  },
  "language_info": {
   "codemirror_mode": {
    "name": "ipython",
    "version": 3
   },
   "file_extension": ".py",
   "mimetype": "text/x-python",
   "name": "python",
   "nbconvert_exporter": "python",
   "pygments_lexer": "ipython3",
   "version": "3.12.10"
  }
 },
 "nbformat": 4,
 "nbformat_minor": 5
}
